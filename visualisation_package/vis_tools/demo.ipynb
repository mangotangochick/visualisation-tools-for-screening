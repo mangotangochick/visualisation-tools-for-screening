{
 "cells": [
  {
   "cell_type": "markdown",
   "metadata": {},
   "source": [
    "# Visualisation Tools for Screening\n",
    "### Version 0.3.0\n",
    "#### Demo Project"
   ]
  },
  {
   "cell_type": "markdown",
   "metadata": {},
   "source": [
    "This demo provides an example of using the *vis_tools_screening* package. \n",
    "\n",
    "It will cover:\n",
    "1. Datasets - uploading built in ones or new ones\n",
    "2. Basic statistical graphs and possible customisations\n",
    "3. More advanced visualisations, including:\n",
    "* Interactive bar charts\n",
    "* Choropleth maps"
   ]
  },
  {
   "cell_type": "code",
   "execution_count": null,
   "metadata": {},
   "outputs": [],
   "source": [
    "# Ignore warnings for purposes of demo notebook\n",
    "import warnings\n",
    "warnings.filterwarnings('ignore')"
   ]
  },
  {
   "cell_type": "markdown",
   "metadata": {},
   "source": [
    "### Datasets"
   ]
  },
  {
   "cell_type": "markdown",
   "metadata": {},
   "source": [
    "This package features functions which take the raw data from a CSV file as input, and performs several steps to prepare it for analysis. The functions are held in the module datasets.py. The functions carry out tasks including missing data handling and removing irrelevant rows or columns.\n",
    "Using this function to read in the data ensures that it is clean and prepared for visualisation steps.\n",
    "\n",
    "There are three functions available: load_cerv(), load_bowel() and load_breast(). Each function is tailored to the data cleaning and preprocessing of the three major screening programmes in the UK respectively: cervical, bowel and breast cancer."
   ]
  },
  {
   "cell_type": "markdown",
   "metadata": {},
   "source": [
    "Import one of the built-in training datasets:"
   ]
  },
  {
   "cell_type": "code",
   "execution_count": null,
   "metadata": {},
   "outputs": [],
   "source": [
    "# Import function to load the cleaned cervical cancer DataFrame from a local file into the notebook\n",
    "import datasets as ds\n",
    "# Run function\n",
    "df = ds.load_cerv()"
   ]
  },
  {
   "cell_type": "markdown",
   "metadata": {},
   "source": [
    "The package also has functionality for importing a custom dataset, using the load_custom() function. Please place your own dataset into the 'data' folder.\n",
    "\n",
    "If you are using your own dataset. Ensure its columns include:\n",
    "* 'Area Code', eg. 'E12000001'\n",
    "* 'Area Name', eg. 'Exeter'\n",
    "* 'Area Type', eg. 'LA'\n",
    "* 'Time period', eg. 2010\n",
    "* 'Value', eg. '77.5379545'\n",
    "* 'Age', eg. '25-64 yrs'\n",
    "* 'Sex', eg. 'Female'"
   ]
  },
  {
   "cell_type": "markdown",
   "metadata": {},
   "source": [
    "### Basic Data Exploration"
   ]
  },
  {
   "cell_type": "code",
   "execution_count": null,
   "metadata": {
    "collapsed": true,
    "jupyter": {
     "outputs_hidden": true
    },
    "tags": []
   },
   "outputs": [],
   "source": [
    "cerv_explore = ds.BasicDataExploration(df)\n",
    "cerv_explore.explore()"
   ]
  },
  {
   "cell_type": "markdown",
   "metadata": {},
   "source": [
    "### Basic Statistical Graphs\n",
    "Basic graph tools are within the baseline.py module. Once the DataFrame has been loaded and cleaned, basic statistical descriptive graphs may be plotted. In this example, we will plot a histogram of the screening percentage uptake data (the 'Value' column) and the number of datapoints in the dataset on the right.\n",
    "\n",
    "Keep in mind that this is not appropriate for extensive statistical analysis at this stage, as the datapoints being plotted vary in what geographical unit the uptake percentage is being measured from. "
   ]
  },
  {
   "cell_type": "code",
   "execution_count": null,
   "metadata": {},
   "outputs": [],
   "source": [
    "# Import basline module\n",
    "from baseline import *"
   ]
  },
  {
   "cell_type": "markdown",
   "metadata": {},
   "source": [
    "#### Histogram \n",
    "Can choose the numeric column in the dataset to plot. \n",
    "Change the parameters of the graph.\n",
    "If you would like to learn more about the function run: help(histogram)."
   ]
  },
  {
   "cell_type": "code",
   "execution_count": null,
   "metadata": {
    "tags": []
   },
   "outputs": [],
   "source": [
    "help(histogram)"
   ]
  },
  {
   "cell_type": "code",
   "execution_count": null,
   "metadata": {
    "tags": []
   },
   "outputs": [],
   "source": [
    "print('A basic histogram plot of the data: ')\n",
    "histogram(df, col='Value', title='Percentage Uptake Histogram', x_label='Percentage Uptake (%)', y_label='Frequency')"
   ]
  },
  {
   "cell_type": "markdown",
   "metadata": {},
   "source": [
    "#### Line plot\n",
    "In this next example, we will view the percentage uptake over time for three areas: Exeter, Mid Sussex and Horsham, and compare them using a lineplot.\n",
    "This function can also be used to view the data for on only one area."
   ]
  },
  {
   "cell_type": "code",
   "execution_count": null,
   "metadata": {
    "tags": []
   },
   "outputs": [],
   "source": [
    "print('A basic line plot of the data: ')\n",
    "linear_comp(df, area_list=['Exeter', 'Mid Sussex', 'Horsham'])"
   ]
  },
  {
   "cell_type": "markdown",
   "metadata": {},
   "source": [
    "### Advanced visualisations\n",
    "In the next part of this demo project, we will use three advanced visualisations to explain the functionalities of a python package built to visualise screening uptake data: a London and Regional UK choropleth map, an animated rank-based graph and a country-wide analysis plot. "
   ]
  },
  {
   "cell_type": "code",
   "execution_count": null,
   "metadata": {
    "tags": []
   },
   "outputs": [],
   "source": [
    "# Import tools for advanced visualisations\n",
    "import plotly.io as pio\n",
    "pio.renderers.default = \"vscode\"\n",
    "from fix_rank import *\n",
    "from visualisation import *"
   ]
  },
  {
   "cell_type": "markdown",
   "metadata": {},
   "source": [
    "#### London Choropleth"
   ]
  },
  {
   "cell_type": "markdown",
   "metadata": {},
   "source": [
    "Our London and Regional UK choropleth map will allow us to quickly and easily visualise the data on a geographical basis. Colour-coded regions will indicate the relative uptake levels of the screening across the country, making it easy to spot trends and areas of higher or lower uptake."
   ]
  },
  {
   "cell_type": "code",
   "execution_count": null,
   "metadata": {
    "tags": []
   },
   "outputs": [],
   "source": [
    "# Plot a map of London and mean uptake across all years\n",
    "ldn_map = LondonMap(df)\n",
    "ldn_map.val_labels = True\n",
    "ldn_map.plot_london_map()"
   ]
  },
  {
   "cell_type": "markdown",
   "metadata": {
    "tags": []
   },
   "source": [
    "#### UK regions Choropleth"
   ]
  },
  {
   "cell_type": "code",
   "execution_count": null,
   "metadata": {
    "tags": []
   },
   "outputs": [],
   "source": [
    "# Plot a Choropleth map of UK regions\n",
    "region_map = Region_Analysis(in_year=2011)"
   ]
  },
  {
   "cell_type": "markdown",
   "metadata": {},
   "source": [
    "#### Deprivation Status Graphs"
   ]
  },
  {
   "cell_type": "code",
   "execution_count": null,
   "metadata": {},
   "outputs": [],
   "source": [
    "from deprivation import *"
   ]
  },
  {
   "cell_type": "code",
   "execution_count": null,
   "metadata": {},
   "outputs": [],
   "source": [
    "depriv = DeprivationPlots(df)\n",
    "depriv.most_least_plot()"
   ]
  },
  {
   "cell_type": "markdown",
   "metadata": {
    "tags": []
   },
   "source": [
    "#### Animated Rank Based Graph"
   ]
  },
  {
   "cell_type": "markdown",
   "metadata": {},
   "source": [
    "The animated rank-based graph will provide a different perspective on the data. This graph will rank the uptake levels of the screening in specified areas across the country and show how they change over time. This will allow us to see how the uptake of the screening varies over time and make comparisons between different areas."
   ]
  },
  {
   "cell_type": "code",
   "execution_count": null,
   "metadata": {
    "tags": []
   },
   "outputs": [],
   "source": [
    "# View a list of all regions included in the Rank-based graph\n",
    "Rank_Based_Graph(df).list_areas(area_type=\"Region\")"
   ]
  },
  {
   "cell_type": "code",
   "execution_count": null,
   "metadata": {},
   "outputs": [],
   "source": [
    "Rank_Based(df).plot_full_animated_graph(area_type='Region')"
   ]
  },
  {
   "cell_type": "code",
   "execution_count": null,
   "metadata": {
    "tags": []
   },
   "outputs": [],
   "source": [
    "# Code currently broken\n",
    "\n",
    "Rank_Based_Graph(df).animated_bars(area_type=\"LA\", list_reg=['New Forest', 'Three Rivers', 'Woking'])"
   ]
  },
  {
   "cell_type": "code",
   "execution_count": null,
   "metadata": {},
   "outputs": [],
   "source": [
    "\n",
    "Rank_Based_Graph(df).animated_scatter()"
   ]
  },
  {
   "cell_type": "markdown",
   "metadata": {},
   "source": [
    "#### Country-wide Analysis LinePlot"
   ]
  },
  {
   "cell_type": "markdown",
   "metadata": {},
   "source": [
    "Finally, our country-wide analysis plot will provide an overview on England's performance as a whole in screening uptake programmes. There is also support to fetch the years with the highest and lowest values of uptake."
   ]
  },
  {
   "cell_type": "code",
   "execution_count": null,
   "metadata": {},
   "outputs": [],
   "source": [
    "country_analysis = Country_Analysis()"
   ]
  },
  {
   "cell_type": "code",
   "execution_count": null,
   "metadata": {},
   "outputs": [],
   "source": [
    "# Support to fetch the year with the highest value\n",
    "country_analysis.get_year_with_highest_val()"
   ]
  },
  {
   "cell_type": "code",
   "execution_count": null,
   "metadata": {},
   "outputs": [],
   "source": [
    "# Support to fetch the year with the lowest value\n",
    "country_analysis.get_year_with_lowest_val()"
   ]
  }
 ],
 "metadata": {
  "kernelspec": {
   "display_name": "visualise",
   "language": "python",
   "name": "python3"
  },
  "language_info": {
   "codemirror_mode": {
    "name": "ipython",
    "version": 3
   },
   "file_extension": ".py",
   "mimetype": "text/x-python",
   "name": "python",
   "nbconvert_exporter": "python",
   "pygments_lexer": "ipython3",
   "version": "3.8.8"
  },
  "vscode": {
   "interpreter": {
    "hash": "6efee63b4d57332a2330c00dad19afe3a95a9cef6af1f7cb86655ce6294c4aa4"
   }
  }
 },
 "nbformat": 4,
 "nbformat_minor": 4
}
