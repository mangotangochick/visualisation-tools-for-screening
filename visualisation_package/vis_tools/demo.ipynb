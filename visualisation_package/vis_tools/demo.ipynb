{
 "cells": [
  {
   "cell_type": "markdown",
   "metadata": {},
   "source": [
    "# Visualisation Tools for Screening\n",
    "### Version 0.3.0\n",
    "#### Demo Project"
   ]
  },
  {
   "cell_type": "markdown",
   "metadata": {},
   "source": [
    "This demo provides an example of using the *vis_tools_screening* package. \n",
    "\n",
    "It will cover:\n",
    "1. Datasets - uploading built in ones or new ones\n",
    "2. Basic statistical graphs and possible customisations\n",
    "3. More advanced visualisations, including:\n",
    "* Interactive bar charts\n",
    "* Choropleth maps"
   ]
  },
  {
   "cell_type": "code",
   "execution_count": null,
   "metadata": {},
   "outputs": [],
   "source": [
    "# Ignore warnings for purposes of demo notebook\n",
    "import warnings\n",
    "warnings.filterwarnings('ignore')"
   ]
  },
  {
   "cell_type": "markdown",
   "metadata": {},
   "source": [
    "### Datasets"
   ]
  },
  {
   "cell_type": "markdown",
   "metadata": {},
   "source": [
    "This package features functions which take the raw data from a CSV file as input, and performs several steps to prepare it for analysis. The functions are held in the module datasets.py. The functions carry out tasks including missing data handling and removing irrelevant rows or columns.\n",
    "Using this function to read in the data ensures that it is clean and prepared for visualisation steps.\n",
    "\n",
    "There are three functions available: load_cerv(), load_bowel() and load_breast(). Each function is tailored to the data cleaning and preprocessing of the three major screening programmes in the UK respectively: cervical, bowel and breast cancer."
   ]
  },
  {
   "cell_type": "markdown",
   "metadata": {},
   "source": [
    "Import one of the built-in training datasets:"
   ]
  },
  {
   "cell_type": "code",
   "execution_count": null,
   "metadata": {},
   "outputs": [],
   "source": [
    "# Import function to load the cleaned cervical cancer DataFrame from a local file into the notebook\n",
    "import datasets as ds\n",
    "# Run function\n",
    "df = ds.load_cerv()"
   ]
  },
  {
   "cell_type": "markdown",
   "metadata": {},
   "source": [
    "The package also has functionality for importing a custom dataset, using the load_custom() function. Please place your own dataset into the 'data' folder.\n",
    "\n",
    "If you are using your own dataset. Ensure its columns include:\n",
    "* 'Area Code', eg. 'E12000001'\n",
    "* 'Area Name', eg. 'Exeter'\n",
    "* 'Area Type', eg. 'LA'\n",
    "* 'Time period', eg. 2010\n",
    "* 'Value', eg. '77.5379545'\n",
    "* 'Age', eg. '25-64 yrs'\n",
    "* 'Sex', eg. 'Female'"
   ]
  },
  {
   "cell_type": "markdown",
   "metadata": {},
   "source": [
    "### Basic Data Exploration"
   ]
  },
  {
   "cell_type": "code",
   "execution_count": null,
   "metadata": {
    "tags": []
   },
   "outputs": [],
   "source": [
    "cerv_explore = ds.BasicDataExploration(df)\n",
    "cerv_explore.explore()"
   ]
  },
  {
   "cell_type": "markdown",
   "metadata": {},
   "source": [
    "### Basic Statistical Graphs\n",
    "Basic graph tools are within the baseline.py module. Once the DataFrame has been loaded and cleaned, basic statistical descriptive graphs may be plotted. In this example, we will plot a histogram of the screening percentage uptake data (the 'Value' column) and the number of datapoints in the dataset on the right.\n",
    "\n",
    "Keep in mind that this is not appropriate for extensive statistical analysis at this stage, as the datapoints being plotted vary in what geographical unit the uptake percentage is being measured from. "
   ]
  },
  {
   "cell_type": "code",
   "execution_count": null,
   "metadata": {},
   "outputs": [],
   "source": [
    "# Import basline module\n",
    "from baseline import *"
   ]
  },
  {
   "cell_type": "markdown",
   "metadata": {},
   "source": [
    "#### Histogram \n",
    "Can choose the numeric column in the dataset to plot. \n",
    "Change the parameters of the graph.\n",
    "If you would like to learn more about the function run: help(histogram)."
   ]
  },
  {
   "cell_type": "code",
   "execution_count": null,
   "metadata": {
    "tags": []
   },
   "outputs": [],
   "source": [
    "help(histogram)"
   ]
  },
  {
   "cell_type": "code",
   "execution_count": null,
   "metadata": {
    "tags": []
   },
   "outputs": [],
   "source": [
    "print('A basic histogram plot of the data: ')\n",
    "histogram(df, col='Value', title='Percentage Uptake Histogram', x_label='Percentage Uptake (%)', y_label='Frequency')"
   ]
  },
  {
   "cell_type": "markdown",
   "metadata": {},
   "source": [
    "#### Line plot\n",
    "In this next example, we will view the percentage uptake over time for three areas: Exeter, Mid Sussex and Horsham, and compare them using a lineplot.\n",
    "This function can also be used to view the data for on only one area."
   ]
  },
  {
   "cell_type": "code",
   "execution_count": null,
   "metadata": {
    "tags": []
   },
   "outputs": [],
   "source": [
    "print('A basic line plot of the data: ')\n",
    "linear_comp(df, area_list=['Tendring', 'Rossendale', 'Bromsgrove','Wyre', 'Dartford', 'East Staffordshire'])"
   ]
  },
  {
   "cell_type": "markdown",
   "metadata": {},
   "source": [
    "### Advanced visualisations\n",
    "In the next part of this demo project, we will use three advanced visualisations to explain the functionalities of a python package built to visualise screening uptake data: a London and an animated Regional England choropleth map, an animated rank-based graph and a country-wide analysis plot. "
   ]
  },
  {
   "cell_type": "code",
   "execution_count": null,
   "metadata": {
    "tags": []
   },
   "outputs": [],
   "source": [
    "# Import tools for advanced visualisations\n",
    "import plotly.io as pio\n",
    "pio.renderers.default = \"notebook_connected\"\n",
    "from visualisation import *\n",
    "from plotly.offline import iplot, init_notebook_mode\n",
    "init_notebook_mode(connected = True)"
   ]
  },
  {
   "cell_type": "markdown",
   "metadata": {},
   "source": [
    "#### London Choropleth"
   ]
  },
  {
   "cell_type": "markdown",
   "metadata": {},
   "source": [
    "Our London and Regional England choropleth map will allow us to quickly and easily visualise the data on a geographical basis. Colour-coded regions will indicate the relative uptake levels of the screening across the country, making it easy to spot trends and areas of higher or lower uptake."
   ]
  },
  {
   "cell_type": "code",
   "execution_count": null,
   "metadata": {
    "tags": []
   },
   "outputs": [],
   "source": [
    "# Plot a map of London and mean uptake across all years\n",
    "ldn_map = LondonMap(df)\n",
    "ldn_map.val_labels = True\n",
    "ldn_map.plot_london_map(colour_palette='fire')"
   ]
  },
  {
   "cell_type": "markdown",
   "metadata": {
    "tags": []
   },
   "source": [
    "#### Animated England Regions Choropleth"
   ]
  },
  {
   "cell_type": "code",
   "execution_count": null,
   "metadata": {
    "tags": []
   },
   "outputs": [],
   "source": [
    "# Plot an animated Choropleth map of England regions\n",
    "region_map = Region_Analysis(colorscale='mint')\n",
    "# For information on available colorscales, run the command: 'help(Region_Analysis.process_colorscale)'"
   ]
  },
  {
   "cell_type": "markdown",
   "metadata": {},
   "source": [
    "#### Deprivation Status Graphs"
   ]
  },
  {
   "cell_type": "code",
   "execution_count": null,
   "metadata": {},
   "outputs": [],
   "source": [
    "from deprivation import *"
   ]
  },
  {
   "cell_type": "code",
   "execution_count": null,
   "metadata": {
    "tags": []
   },
   "outputs": [],
   "source": [
    "depriv = DeprivationPlots(df)\n",
    "depriv.most_least_plot(2016)"
   ]
  },
  {
   "cell_type": "markdown",
   "metadata": {
    "tags": []
   },
   "source": [
    "#### Animated Rank Based Graph"
   ]
  },
  {
   "cell_type": "markdown",
   "metadata": {},
   "source": [
    "The animated rank-based graph will provide a different perspective on the data. This graph will rank the uptake levels of the screening in specified areas across the country and show how they change over time. This will allow us to see how the uptake of the screening varies over time and make comparisons between different areas."
   ]
  },
  {
   "cell_type": "code",
   "execution_count": null,
   "metadata": {
    "tags": []
   },
   "outputs": [],
   "source": [
    "# View a list of all regions included in the Rank-based graph\n",
    "Rank_Based_Graph(df).list_areas(area_type=\"Region\")"
   ]
  },
  {
   "cell_type": "code",
   "execution_count": null,
   "metadata": {},
   "outputs": [],
   "source": [
    "from visualisation import visualise_rank as vis\n",
    "vis(area_type = \"LA\", list_reg = ['Tendring', 'Rossendale', 'Bromsgrove', 'Wyre', 'Dartford', 'East Staffordshire'], sns_palette = \"Spectral\", width = 900, height = 600, showlegend = False, rank_text_size = 16)"
   ]
  },
  {
   "cell_type": "markdown",
   "metadata": {},
   "source": [
    "If using the tools to produce graphs in other than Jupyter Notebook environment, these commands can be used to plot them individually:  \n",
    "Animated Bar Chart: Rank_Based_Graph(df).animated_bars(area_type=\"LA\", list_reg=['Tendring', 'Rossendale', 'Bromsgrove','Wyre', 'Dartford', 'East Staffordshire'])   \n",
    "Animated Scatter Plot: Rank_Based_Graph(df).animated_scatter(area_type=\"LA\", list_reg=['Tendring', 'Rossendale', 'Bromsgrove','Wyre', 'Dartford', 'East Staffordshire'])   \n",
    "Animated Bar Chart of all the regions: Rank_Based_Graph(df).plot_full_animated_graph(area_type='Region')   "
   ]
  },
  {
   "cell_type": "markdown",
   "metadata": {},
   "source": [
    "#### Country-wide Analysis LinePlot"
   ]
  },
  {
   "cell_type": "markdown",
   "metadata": {},
   "source": [
    "Finally, our country-wide analysis plot will provide an overview on England's performance as a whole in screening uptake programmes. There is also support to fetch the years with the highest and lowest values of uptake."
   ]
  },
  {
   "cell_type": "code",
   "execution_count": null,
   "metadata": {},
   "outputs": [],
   "source": [
    "country_analysis = Country_Analysis()"
   ]
  },
  {
   "cell_type": "code",
   "execution_count": null,
   "metadata": {},
   "outputs": [],
   "source": [
    "country_analysis.lineplot_cancer_England()"
   ]
  }
 ],
 "metadata": {
  "kernelspec": {
   "display_name": "Python 3 (ipykernel)",
   "language": "python",
   "name": "python3"
  },
  "language_info": {
   "codemirror_mode": {
    "name": "ipython",
    "version": 3
   },
   "file_extension": ".py",
   "mimetype": "text/x-python",
   "name": "python",
   "nbconvert_exporter": "python",
   "pygments_lexer": "ipython3",
   "version": "3.9.12"
  },
  "vscode": {
   "interpreter": {
    "hash": "6efee63b4d57332a2330c00dad19afe3a95a9cef6af1f7cb86655ce6294c4aa4"
   }
  }
 },
 "nbformat": 4,
 "nbformat_minor": 4
}
